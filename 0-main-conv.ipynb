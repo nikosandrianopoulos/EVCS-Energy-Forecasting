{
 "cells": [
  {
   "cell_type": "code",
   "execution_count": null,
   "id": "7d73674c",
   "metadata": {},
   "outputs": [],
   "source": [
    "import pandas as pd\n",
    "import numpy as np\n",
    "import warnings\n",
    "warnings.filterwarnings('ignore')"
   ]
  },
  {
   "cell_type": "code",
   "execution_count": null,
   "id": "d920d074",
   "metadata": {},
   "outputs": [],
   "source": [
    "#Loading dataset\n",
    "data = pd.read_csv(\"C:\\\\UnderGrad\\\\data\\\\ChargePoint_Data_CY20Q4.csv\")\n",
    "data.head()"
   ]
  },
  {
   "cell_type": "markdown",
   "id": "125411b5",
   "metadata": {},
   "source": [
    "## Data Preprocessing"
   ]
  },
  {
   "cell_type": "markdown",
   "id": "b483bdea",
   "metadata": {},
   "source": [
    "### Grid Setup \n",
    "\n",
    "Functions that define the grid of the raster map"
   ]
  },
  {
   "cell_type": "code",
   "execution_count": null,
   "id": "db7926a8",
   "metadata": {},
   "outputs": [],
   "source": [
    "def findcell(row, list_x, list_y):\n",
    "    '''\n",
    "        finding grid cells for each row\n",
    "    '''\n",
    "    for i, x in enumerate(list_x):\n",
    "        if row['Longitude'] <= x:\n",
    "            x_gridcell = i-1\n",
    "            break\n",
    "    \n",
    "    for j, y in enumerate(list_y):\n",
    "        if row['Latitude'] <= y:\n",
    "            y_gridcell = j-1\n",
    "            break\n",
    "    \n",
    "    return x_gridcell, y_gridcell\n",
    "\n",
    "def getcell(data):\n",
    "    '''\n",
    "        assigning grid cell indices to each row\n",
    "    '''\n",
    "    nx=5\n",
    "    ny=5\n",
    "    #grid boundaries\n",
    "    x = np.linspace(min(data['Longitude'])-0.00005, max(data['Longitude'])+0.00005, nx+1)\n",
    "    y = np.linspace(min(data['Latitude'])-0.00005, max(data['Latitude'])+0.00005, ny+1)\n",
    "    #initializing cell columns\n",
    "    data['xcell'] = -1\n",
    "    data['ycell'] = -1\n",
    "    for idx, row in data.iterrows():\n",
    "        data.at[idx,'xcell'], data.at[idx,'ycell'] = findcell(row, x, y)\n",
    "    \n",
    "    return data\n",
    "\n"
   ]
  },
  {
   "cell_type": "code",
   "execution_count": null,
   "id": "9815dd78",
   "metadata": {},
   "outputs": [],
   "source": [
    "data = getcell(data)"
   ]
  },
  {
   "cell_type": "code",
   "execution_count": null,
   "id": "a18b5371",
   "metadata": {},
   "outputs": [],
   "source": [
    "data.rename(columns={'Energy (kWh)':'Energy'}, inplace=True)"
   ]
  },
  {
   "cell_type": "code",
   "execution_count": null,
   "id": "640ec209",
   "metadata": {},
   "outputs": [],
   "source": [
    "data['Start Date'] = pd.to_datetime(data['Start Date'])\n",
    "#Flooring the date to a daily format\n",
    "data['Start Date'] = data['Start Date'].dt.floor('D')\n",
    "\n",
    "data.set_index('Start Date', inplace=True)"
   ]
  },
  {
   "cell_type": "code",
   "execution_count": null,
   "id": "74c5e4e2",
   "metadata": {},
   "outputs": [],
   "source": [
    "data = data.loc['2012-01-01':]\n",
    "data"
   ]
  },
  {
   "cell_type": "markdown",
   "id": "d2a0eacc",
   "metadata": {},
   "source": [
    "### Raster Map setup"
   ]
  },
  {
   "cell_type": "code",
   "execution_count": null,
   "id": "a8fa1597",
   "metadata": {},
   "outputs": [],
   "source": [
    "from datetime import datetime, timedelta\n",
    "def build_rastermap(data):\n",
    "    '''\n",
    "        Function that builds the 3D array of raster maps.\n",
    "        Args: data, dataframe\n",
    "        Returns: raster_map, 3D array\n",
    "    '''\n",
    "    #5x5 grid\n",
    "    nx=5\n",
    "    ny=5\n",
    "    \n",
    "    num_h = int((data.index.max() - data.index.min()).total_seconds()//(3600*24))\n",
    "    #3d raster map\n",
    "    raster_map = np.zeros([num_h + 1, nx, ny])\n",
    "    timestart = data.index.min()\n",
    "    \n",
    "    #daily loop\n",
    "    for x in range(num_h+1):\n",
    "        window = timestart + timedelta(days=x)\n",
    "        current = data[(data.index==window)]\n",
    "        \n",
    "        #looping through each cell\n",
    "        for y in range(nx):\n",
    "            for z in range(ny):\n",
    "                #unique station names count\n",
    "                chargers = len(current[(current.xcell == y)&(current.ycell == z)]['Station Name'].unique())\n",
    "                if chargers == 0:\n",
    "                    continue\n",
    "                raster_map[x,y,z] = np.sum(current[(current.xcell == y)&(current.ycell==z)]['Energy'])\n",
    "    return raster_map "
   ]
  },
  {
   "cell_type": "code",
   "execution_count": null,
   "id": "bca36678",
   "metadata": {},
   "outputs": [],
   "source": [
    "raster_map = build_rastermap(data)"
   ]
  },
  {
   "cell_type": "code",
   "execution_count": null,
   "id": "9fdd0eaf",
   "metadata": {},
   "outputs": [],
   "source": [
    "raster_map.shape"
   ]
  },
  {
   "cell_type": "markdown",
   "id": "30d9b642",
   "metadata": {},
   "source": [
    "### Train-test split for Conv models \n",
    "\n",
    "Splitting the dataset into training and testing subsets using the raster map."
   ]
  },
  {
   "cell_type": "code",
   "execution_count": null,
   "id": "8a17e2e0",
   "metadata": {},
   "outputs": [],
   "source": [
    "def traintest(data, model_name, forecast_h, raster_map):\n",
    "    '''\n",
    "        Function that builds the train-test sets.\n",
    "        Args: data, dataframe\n",
    "              model_name, string\n",
    "              forecast_h, int\n",
    "              raster_map, 3D array\n",
    "        Returns: X_train, y_train, X_test, y_test, maxval\n",
    "    '''\n",
    "    if forecast_h not in [1,7,30]:\n",
    "        raise ValueError('Forecasting horizon must be 1, 7 or 30')\n",
    "        \n",
    "    \n",
    "    numlags=30 #lagged timesteps\n",
    "    nx=5\n",
    "    ny=5\n",
    "    \n",
    "    maxval = np.max(raster_map, axis=0)+0.01\n",
    "    #normalizing raster map\n",
    "    norm = raster_map/maxval\n",
    "    norm[np.isnan(norm)]=0 #nan vals at 0\n",
    "    norm[norm==0] = np.random.normal(np.zeros_like(norm[norm==0]),0.01)#0 vals to 0.01\n",
    "    \n",
    "    matrixlags = np.zeros((raster_map.shape[0]-(numlags+forecast_h), numlags+forecast_h, nx, ny))\n",
    "    \n",
    "    rng=matrixlags.shape[0]\n",
    "    if forecast_h in [1,7]:\n",
    "        itrain = rng - 30\n",
    "    else:\n",
    "        itrain = rng - 120\n",
    "    itest= rng\n",
    "    \n",
    "    for i in range(rng):\n",
    "        matrixlags[i] = norm[i:i+numlags+forecast_h,:,:]\n",
    "    \n",
    "    #Train-Test split\n",
    "    #Initializing\n",
    "    X_train = np.zeros((itrain,numlags,nx,ny))\n",
    "    y_train = np.zeros((itrain,forecast_h,nx,ny))\n",
    "    X_test = np.zeros((itest-itrain,numlags,nx,ny))\n",
    "    y_test = np.zeros((itest-itrain,forecast_h,nx,ny))\n",
    "    \n",
    "    for x in range(nx):\n",
    "        for y in range(ny):\n",
    "            X_train[:,:,x,y] = matrixlags[:itrain,:numlags,x,y]\n",
    "            y_train[:,:,x,y] = matrixlags[:itrain,numlags:,x,y]\n",
    "            X_test[:,:,x,y] = matrixlags[itrain:itest,:numlags,x,y]\n",
    "            y_test[:,:,x,y] = matrixlags[itrain:itest,numlags:,x,y]\n",
    "    \n",
    "    if model_name=='convlstm':\n",
    "        #adjusting for CNN-LSTM\n",
    "        X_trainlstm = X_train[:,:,:,:,np.newaxis]\n",
    "        X_testlstm = X_test[:,:,:,:,np.newaxis]\n",
    "        y_testlstm = y_test*maxval\n",
    "        return X_trainlstm,y_train,X_testlstm,y_testlstm, maxval\n",
    "    \n",
    "    maxvalexp = maxval[np.newaxis,:, :, np.newaxis]\n",
    "    X_train = np.moveaxis(X_train,1,-1)\n",
    "    y_train = np.moveaxis(y_train,1,-1)\n",
    "    X_test = np.moveaxis(X_test,1,-1)\n",
    "    y_test = np.moveaxis(y_test,1,-1)\n",
    "    X_test_denorm = X_test*maxvalexp\n",
    "    y_test_denorm = y_test*maxvalexp\n",
    "    return X_train,y_train,X_test,y_test_denorm, maxval"
   ]
  },
  {
   "cell_type": "code",
   "execution_count": null,
   "id": "a1ded4ad",
   "metadata": {
    "scrolled": false
   },
   "outputs": [],
   "source": [
    "forecast_h=1\n",
    "X_train, y_train, X_test, y_test, maxval = traintest(data,'conv',forecast_h, raster_map)\n",
    "print(f'X_train shape: {X_train.shape}')\n",
    "print(f'y_train shape: {y_train.shape}')\n",
    "print(f'X_test shape: {X_test.shape}')\n",
    "print(f'y_test shape: {y_test.shape}')\n",
    "input_shape = X_train.shape[1:]\n",
    "print(f'Input shape: {input_shape}')"
   ]
  },
  {
   "cell_type": "markdown",
   "id": "707d5030",
   "metadata": {},
   "source": [
    "## Forecasting models"
   ]
  },
  {
   "cell_type": "markdown",
   "id": "1ac05f27",
   "metadata": {},
   "source": [
    "### 2D Convolutional Model"
   ]
  },
  {
   "cell_type": "code",
   "execution_count": null,
   "id": "af4cb9bf",
   "metadata": {},
   "outputs": [],
   "source": [
    "import tensorflow as tf\n",
    "import keras\n",
    "from tensorflow.keras.models import Sequential\n",
    "from tensorflow.keras.layers import Conv2D, LSTM, BatchNormalization, Dense, Reshape, Flatten\n",
    "from tensorflow.keras.optimizers import Adam\n",
    "from tensorflow.keras.losses import MeanAbsoluteError\n",
    "\n",
    "def buildconv(input_shape, forecast_h):\n",
    "    '''\n",
    "        Function that builds the CNN model.\n",
    "        Args: input_shape, tuple\n",
    "              forecast_h, int\n",
    "        Returns: mdl, model\n",
    "    '''\n",
    "    mdl=Sequential()\n",
    "    mdl.add(Conv2D(filters=16, kernel_size=3, activation='relu', padding='same', input_shape=input_shape))\n",
    "    mdl.add(BatchNormalization())\n",
    "    mdl.add(Dense(forecast_h, activation='relu'))\n",
    "    mdl.compile(optimizer=Adam(learning_rate=1e-4), loss=MeanAbsoluteError())\n",
    "    \n",
    "    return mdl"
   ]
  },
  {
   "cell_type": "code",
   "execution_count": null,
   "id": "79143a5d",
   "metadata": {
    "scrolled": false
   },
   "outputs": [],
   "source": [
    "mdlcnn = buildconv(input_shape,forecast_h)\n",
    "mdlcnn.summary()"
   ]
  },
  {
   "cell_type": "code",
   "execution_count": null,
   "id": "91273421",
   "metadata": {
    "scrolled": true
   },
   "outputs": [],
   "source": [
    "mdlcnn.fit(X_train, y_train, epochs=100)"
   ]
  },
  {
   "cell_type": "code",
   "execution_count": null,
   "id": "22c35077",
   "metadata": {
    "scrolled": true
   },
   "outputs": [],
   "source": [
    "predcnn = mdlcnn.predict(X_test)\n",
    "predcnn = predcnn * maxval[np.newaxis,:, :, np.newaxis]\n",
    "totalpredcnn = np.sum(predcnn, axis=(1,2))\n",
    "totalactualcnn = np.sum(y_test, axis=(1,2))"
   ]
  },
  {
   "cell_type": "code",
   "execution_count": null,
   "id": "42537d32",
   "metadata": {
    "scrolled": false
   },
   "outputs": [],
   "source": [
    "rmse = np.sqrt(np.mean((totalpredcnn-totalactualcnn)**2))\n",
    "print(f'RMSE for CNN in {forecast_h} forecasting days: {rmse}')"
   ]
  },
  {
   "cell_type": "markdown",
   "id": "2a8055bb",
   "metadata": {},
   "source": [
    "### Hybrid Conv-LSTM model"
   ]
  },
  {
   "cell_type": "code",
   "execution_count": null,
   "id": "fdb49337",
   "metadata": {},
   "outputs": [],
   "source": [
    "import tensorflow as tf\n",
    "from tensorflow import keras\n",
    "from tensorflow.keras import layers\n",
    "from tensorflow.keras import Sequential\n",
    "def buildconvlstm(input_shape,forecast_h):\n",
    "    '''\n",
    "        Function that builds the ConvLSTM model.\n",
    "        Args: input_shape, tuple\n",
    "              forecast_h, int\n",
    "        Returns: mdl, model\n",
    "    '''\n",
    "    mdl=Sequential([\n",
    "        keras.Input(shape=input_shape),\n",
    "        layers.TimeDistributed(layers.Conv2D(16,3,activation='relu',padding='same')),\n",
    "        layers.TimeDistributed(layers.Flatten()),\n",
    "        layers.BatchNormalization(),\n",
    "        layers.LSTM(50, dropout=0.1),\n",
    "        layers.BatchNormalization(),\n",
    "        layers.Dense(input_shape[1]*input_shape[2]*forecast_h),\n",
    "        layers.Reshape((forecast_h,input_shape[1],input_shape[2]))\n",
    "    ])\n",
    "    mdl.compile(optimizer=Adam(learning_rate=1e-4), loss=MeanAbsoluteError())\n",
    "    \n",
    "    return mdl"
   ]
  },
  {
   "cell_type": "code",
   "execution_count": null,
   "id": "8f9a4b52",
   "metadata": {},
   "outputs": [],
   "source": [
    "X_train, y_train, X_test, y_test, maxval = traintest(data,'convlstm',forecast_h, raster_map)\n",
    "print(f'X_train shape: {X_train.shape}')\n",
    "print(f'y_train shape: {y_train.shape}')\n",
    "print(f'X_test shape: {X_test.shape}')\n",
    "print(f'y_test shape: {y_test.shape}')\n",
    "input_shape = X_train.shape[1:]\n",
    "print(f'Input shape: {input_shape}')"
   ]
  },
  {
   "cell_type": "code",
   "execution_count": null,
   "id": "d47c45f2",
   "metadata": {
    "scrolled": false
   },
   "outputs": [],
   "source": [
    "mdl_lstm = buildconvlstm(input_shape, forecast_h)\n",
    "mdl_lstm.summary()"
   ]
  },
  {
   "cell_type": "code",
   "execution_count": null,
   "id": "dafd37a9",
   "metadata": {
    "scrolled": true
   },
   "outputs": [],
   "source": [
    "mdl_lstm.fit(X_train, y_train, epochs=100)"
   ]
  },
  {
   "cell_type": "code",
   "execution_count": null,
   "id": "0548ab7c",
   "metadata": {},
   "outputs": [],
   "source": [
    "predlstm = mdl_lstm.predict(X_test)\n",
    "predlstm = predlstm * maxval\n",
    "totalpredlstm = np.sum(predlstm, axis=(2,3))\n",
    "totalactuallstm = np.sum(y_test, axis=(2,3))"
   ]
  },
  {
   "cell_type": "code",
   "execution_count": null,
   "id": "bd80f0ca",
   "metadata": {},
   "outputs": [],
   "source": [
    "rmse = np.sqrt(np.mean((totalpredlstm-totalactuallstm)**2))\n",
    "print(f'RMSE for CNN-LSTM in {forecast_h} forecasting days: {rmse}')"
   ]
  },
  {
   "cell_type": "code",
   "execution_count": null,
   "id": "2981f4fe",
   "metadata": {},
   "outputs": [],
   "source": [
    "import matplotlib.pyplot as plt\n",
    "if forecast_h == 1:\n",
    "    print('No plot is made for 1-day forecasting')\n",
    "elif forecast_h == 7:\n",
    "    #plot 7 days\n",
    "    data.index = pd.to_datetime(data.index)\n",
    "    #filtering data for last week\n",
    "    lastdate = data.index[-1]\n",
    "    startdate = lastdate - pd.DateOffset(days=7)\n",
    "    monthdata = data[(data.index > startdate) & (data.index <= lastdate)]\n",
    "\n",
    "    s = np.sum(y_test, axis=(0,2,3))\n",
    "    cnn7 = np.sum(totalpredcnn, axis=0)\n",
    "    lstm7 = np.sum(totalpredlstm, axis=0)\n",
    "    #transfering tgcn forecasted values from other notebook.\n",
    "    tgcn7 = [12227.31948756, 11694.1825426 , 11645.55619525, 11443.05265468,\n",
    "           11569.57864392, 12087.08339964, 11896.93519662]\n",
    "\n",
    "    #Total sum of energy for the last week\n",
    "    summedenergy = monthdata.groupby(monthdata.index).sum()\n",
    "\n",
    "    forecastdata = pd.DataFrame({\n",
    "        'Date': summedenergy.index,\n",
    "        'Actual Energy': s,\n",
    "        'CNN Forecast': cnn7,\n",
    "        'ConvLSTM Forecast': lstm7,\n",
    "        'TGCN Forecast': tgcn7\n",
    "    })\n",
    "\n",
    "    #PLOT\n",
    "    plt.figure(figsize=(10,6))\n",
    "    plt.plot(forecastdata['Date'], forecastdata['Actual Energy'], marker='o', linestyle='-', color='k', label='Actual Energy')\n",
    "    plt.plot(forecastdata['Date'], forecastdata['CNN Forecast'], marker='o', linestyle='--', color='b', label='CNN Forecasted Energy')\n",
    "    plt.plot(forecastdata['Date'], forecastdata['ConvLSTM Forecast'], marker='o', linestyle='--', color='r', label='ConvLSTM Forecasted Energy')\n",
    "    plt.plot(forecastdata['Date'], forecastdata['TGCN Forecast'], marker='o', linestyle='--', color='green', label='TGCN Forecasted Energy')\n",
    "\n",
    "    plt.xlabel('Date')\n",
    "    plt.ylabel('Energy Demand')\n",
    "    plt.grid(True)\n",
    "    plt.legend()\n",
    "    plt.title('CNN-ConvLSTM-TGCN Forecasted vs Actual Energy')\n",
    "    plt.xticks(rotation=45)\n",
    "    plt.tight_layout()\n",
    "    plt.show()\n",
    "else:\n",
    "    #plot 30 days\n",
    "    data.index = pd.to_datetime(data.index)\n",
    "    #filtering data for last month\n",
    "    lastdate = data.index[-1]\n",
    "    startdate = lastdate - pd.DateOffset(days=30)\n",
    "    monthdata = data[(data.index > startdate) & (data.index <= lastdate)]\n",
    "\n",
    "    s = np.sum(y_test, axis=(0,2,3))\n",
    "\n",
    "    cnn30 = np.sum(totalpredcnn, axis=0)\n",
    "    lstm30 = np.sum(totalpredlstm, axis=0)\n",
    "    #transfering tgcn forecasted values from other notebook.\n",
    "    tgcn30 = [51318.08576366, 51346.11326565, 51507.70399133, 51457.43757854,\n",
    "           51700.83425308, 51820.0790417 , 51609.09431133, 51364.15813247,\n",
    "           51743.12194754, 51627.75168776, 51745.20995092, 51599.82558309,\n",
    "           51317.60523569, 51657.77594607, 51531.21234152, 51449.28571977,\n",
    "           51585.33255327, 51588.77571669, 51546.62707234, 51482.91585872,\n",
    "           51417.81598935, 51340.13877193, 51392.86726985, 51194.4655082 ,\n",
    "           51144.42805127, 51141.6029261 , 51076.31028627, 51164.41770911,\n",
    "           51379.3938884 , 51303.54574994]\n",
    "\n",
    "    #Total sum of energy for the last month\n",
    "    summedenergy = monthdata.groupby(monthdata.index).sum()\n",
    "\n",
    "    forecastdata = pd.DataFrame({\n",
    "        'Date': summedenergy.index,\n",
    "        'Actual Energy': s,\n",
    "        'CNN Forecast': cnn30,\n",
    "        'ConvLSTM Forecast': lstm30,\n",
    "        'TGCN Forecast': tgcn30\n",
    "    })\n",
    "\n",
    "    #PLOT\n",
    "    plt.figure(figsize=(10,6))\n",
    "    plt.plot(forecastdata['Date'], forecastdata['Actual Energy'], marker='o', linestyle='-', color='k', label='Actual Energy')\n",
    "    plt.plot(forecastdata['Date'], forecastdata['CNN Forecast'], marker='o', linestyle='--', color='b', label='CNN Forecasted Energy')\n",
    "    plt.plot(forecastdata['Date'], forecastdata['ConvLSTM Forecast'], marker='o', linestyle='--', color='r', label='ConvLSTM Forecasted Energy')\n",
    "    plt.plot(forecastdata['Date'], forecastdata['TGCN Forecast'], marker='o', linestyle='--', color='green', label='TGCN Forecasted Energy')\n",
    "\n",
    "    plt.xlabel('Date')\n",
    "    plt.ylabel('Energy Demand')\n",
    "    plt.grid(True)\n",
    "    plt.legend(loc='lower center', fontsize='small')\n",
    "    plt.title('CNN-ConvLSTM-TGCN Forecasted vs Actual Energy')\n",
    "    plt.xticks(rotation=45)\n",
    "    plt.tight_layout()\n",
    "    plt.show()"
   ]
  }
 ],
 "metadata": {
  "kernelspec": {
   "display_name": "Python 3 (ipykernel)",
   "language": "python",
   "name": "python3"
  },
  "language_info": {
   "codemirror_mode": {
    "name": "ipython",
    "version": 3
   },
   "file_extension": ".py",
   "mimetype": "text/x-python",
   "name": "python",
   "nbconvert_exporter": "python",
   "pygments_lexer": "ipython3",
   "version": "3.9.0"
  }
 },
 "nbformat": 4,
 "nbformat_minor": 5
}
